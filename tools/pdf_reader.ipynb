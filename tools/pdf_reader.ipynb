{
 "cells": [
  {
   "attachments": {},
   "cell_type": "markdown",
   "metadata": {},
   "source": [
    "source: https://python.langchain.com/v0.1/docs/modules/data_connection/document_loaders/pdf/"
   ]
  },
  {
   "cell_type": "code",
   "execution_count": 8,
   "metadata": {},
   "outputs": [
    {
     "data": {
      "text/plain": [
       "True"
      ]
     },
     "execution_count": 8,
     "metadata": {},
     "output_type": "execute_result"
    }
   ],
   "source": [
    "from os.path import abspath, join\n",
    "from dotenv import load_dotenv\n",
    "from langchain_community.document_loaders import PyPDFLoader\n",
    "\n",
    "dotenv_path = join(abspath(\"\"), \"../.env\")\n",
    "load_dotenv(dotenv_path)"
   ]
  },
  {
   "cell_type": "code",
   "execution_count": 9,
   "metadata": {},
   "outputs": [],
   "source": [
    "path_to_example = join(abspath(\"\"), \"../example\")\n",
    "loader = PyPDFLoader(f\"{path_to_example}/example_scientific_paper.pdf\")\n",
    "pages = loader.load_and_split()"
   ]
  },
  {
   "cell_type": "code",
   "execution_count": 25,
   "metadata": {},
   "outputs": [
    {
     "name": "stdout",
     "output_type": "stream",
     "text": [
      "1\n",
      "Scientific  RepoRts  | 7: 4345  | DOI:10.1038/s41598-017-04280-wwww.nature.com/scientificreportsEngineering Biodegradable and \n",
      "Biocompatible Bio-ionic Liquid \n",
      "Conjugated Hydrogels with Tunable \n",
      "Conductivity and Mechanical \n",
      "Properties\n",
      "Iman Noshadi1,2, Brian W. Walker1, Roberto Portillo-Lara1,4, Ehsan Shirzaei Sani1,  \n",
      "Nayara Gomes1, Mohammad Reza Aziziyan1,5,6 & Nasim Annabi1,2,3\n",
      "Conventional methods to engineer electroconductive hydrogels (ECHs) through the incorporation \n",
      "of conductive nanomat\n"
     ]
    }
   ],
   "source": [
    "# Take a peak at the first page\n",
    "print(pages[0].page_content[:500])"
   ]
  },
  {
   "cell_type": "code",
   "execution_count": 27,
   "metadata": {},
   "outputs": [],
   "source": [
    "from langchain_community.vectorstores import FAISS"
   ]
  },
  {
   "cell_type": "code",
   "execution_count": 32,
   "metadata": {},
   "outputs": [
    {
     "name": "stdout",
     "output_type": "stream",
     "text": [
      "Found a doc at page 0: 1\n",
      "Scientific  RepoRts  | 7: 4345  | DOI:10.1038/s41598-017-04280-wwww.nature.com/scientificreportsEngineering Biodegradable and \n",
      "Biocompatible Bio-ionic Liquid \n",
      "Conjugated Hydrogels with Tunable \n",
      "Conductivity and Mechanical \n",
      "Properties\n",
      "Iman Noshadi1,2, Brian W. Walker1, Roberto Portillo-Lara1,4, Ehs\n",
      "\n",
      "Found a doc at page 15: 35. Fukaya, Y ., Iizuka, Y ., Sekikawa, K. & Ohno, H. Bio ionic liquids: room temperature ionic liquids composed wholly of biomaterials. \n",
      "Green Chem 9, 1155–1157, doi:10.1039/b706571j (2007).\n",
      " 36. Kuchenbuch, A. & Giernoth, R. Ionic Liquids Beyond Simple Solvents: Glimpses at the State of the Art in\n",
      "\n"
     ]
    }
   ],
   "source": [
    "from langchain_community.vectorstores import FAISS\n",
    "from langchain_openai import OpenAIEmbeddings\n",
    "\n",
    "faiss_index = FAISS.from_documents(pages, OpenAIEmbeddings())\n",
    "\n",
    "# the paper pdf used is randomly picked from web search\n",
    "# the question just questions its title\n",
    "docs = faiss_index.similarity_search(\"What is Bio-ionic Liquid Conjugated Hydrogels?\", k=2)\n",
    "for doc in docs:\n",
    "    print(\"Found a doc at page\", str(doc.metadata['page']) + \":\", doc.page_content[:300], end='\\n\\n')"
   ]
  }
 ],
 "metadata": {
  "kernelspec": {
   "display_name": "LangchainLab",
   "language": "python",
   "name": "python3"
  },
  "language_info": {
   "codemirror_mode": {
    "name": "ipython",
    "version": 3
   },
   "file_extension": ".py",
   "mimetype": "text/x-python",
   "name": "python",
   "nbconvert_exporter": "python",
   "pygments_lexer": "ipython3",
   "version": "3.11.8"
  },
  "orig_nbformat": 4
 },
 "nbformat": 4,
 "nbformat_minor": 2
}
